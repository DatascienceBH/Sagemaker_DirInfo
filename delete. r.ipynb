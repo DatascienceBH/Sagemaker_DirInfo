{
 "cells": [
  {
   "cell_type": "code",
   "execution_count": 3,
   "metadata": {},
   "outputs": [
    {
     "name": "stderr",
     "output_type": "stream",
     "text": [
      "Warning message:\n",
      "“unable to access index for repository https://cran.r-project.org/src/contrib:\n",
      "  cannot open URL 'https://cran.r-project.org/src/contrib/PACKAGES'”\n",
      "Warning message:\n",
      "“package ‘CatEncoders’ is not available (for R version 3.4.3)”\n",
      "Warning message:\n",
      "“unable to access index for repository https://cran.r-project.org/bin/macosx/el-capitan/contrib/3.4:\n",
      "  cannot open URL 'https://cran.r-project.org/bin/macosx/el-capitan/contrib/3.4/PACKAGES'”\n"
     ]
    },
    {
     "ename": "ERROR",
     "evalue": "Error in library(CatEncoders): there is no package called ‘CatEncoders’\n",
     "output_type": "error",
     "traceback": [
      "Error in library(CatEncoders): there is no package called ‘CatEncoders’\nTraceback:\n",
      "1. library(CatEncoders)",
      "2. stop(txt, domain = NA)"
     ]
    }
   ],
   "source": [
    "install.packages(\"CatEncoders\")\n",
    "library(CatEncoders)"
   ]
  },
  {
   "cell_type": "code",
   "execution_count": 1,
   "metadata": {},
   "outputs": [
    {
     "ename": "ERROR",
     "evalue": "Error in eval(expr, envir, enclos): object 'LabelEncoder' not found\n",
     "output_type": "error",
     "traceback": [
      "Error in eval(expr, envir, enclos): object 'LabelEncoder' not found\nTraceback:\n"
     ]
    }
   ],
   "source": [
    "\n",
    "data_ex <- data.frame(Score = c(10,20,30,4), Name=c('Ao','Bo','Bo','Co'))\n",
    "lbl <- LabelEncoder$new()\n",
    "lbl$fit(data_ex$Name)\n",
    "data_ex$Name <- lbl$fit_transform(data_ex$Name)\n",
    "decode_names <- lbl$inverse_transform(data_ex$Name)"
   ]
  },
  {
   "cell_type": "code",
   "execution_count": null,
   "metadata": {},
   "outputs": [],
   "source": []
  }
 ],
 "metadata": {
  "kernelspec": {
   "display_name": "R",
   "language": "R",
   "name": "ir"
  },
  "language_info": {
   "codemirror_mode": "r",
   "file_extension": ".r",
   "mimetype": "text/x-r-source",
   "name": "R",
   "pygments_lexer": "r",
   "version": "3.4.3"
  }
 },
 "nbformat": 4,
 "nbformat_minor": 2
}
