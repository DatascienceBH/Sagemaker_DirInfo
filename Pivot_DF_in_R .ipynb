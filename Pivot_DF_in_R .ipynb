{
 "cells": [
  {
   "cell_type": "code",
   "execution_count": 3,
   "metadata": {},
   "outputs": [],
   "source": [
    "data(\"iris\")"
   ]
  },
  {
   "cell_type": "code",
   "execution_count": 4,
   "metadata": {},
   "outputs": [
    {
     "data": {
      "text/html": [
       "<table>\n",
       "<caption>A data.frame: 6 × 5</caption>\n",
       "<thead>\n",
       "\t<tr><th></th><th scope=col>Sepal.Length</th><th scope=col>Sepal.Width</th><th scope=col>Petal.Length</th><th scope=col>Petal.Width</th><th scope=col>Species</th></tr>\n",
       "\t<tr><th></th><th scope=col>&lt;dbl&gt;</th><th scope=col>&lt;dbl&gt;</th><th scope=col>&lt;dbl&gt;</th><th scope=col>&lt;dbl&gt;</th><th scope=col>&lt;fct&gt;</th></tr>\n",
       "</thead>\n",
       "<tbody>\n",
       "\t<tr><th scope=row>1</th><td>5.1</td><td>3.5</td><td>1.4</td><td>0.2</td><td>setosa</td></tr>\n",
       "\t<tr><th scope=row>2</th><td>4.9</td><td>3.0</td><td>1.4</td><td>0.2</td><td>setosa</td></tr>\n",
       "\t<tr><th scope=row>3</th><td>4.7</td><td>3.2</td><td>1.3</td><td>0.2</td><td>setosa</td></tr>\n",
       "\t<tr><th scope=row>4</th><td>4.6</td><td>3.1</td><td>1.5</td><td>0.2</td><td>setosa</td></tr>\n",
       "\t<tr><th scope=row>5</th><td>5.0</td><td>3.6</td><td>1.4</td><td>0.2</td><td>setosa</td></tr>\n",
       "\t<tr><th scope=row>6</th><td>5.4</td><td>3.9</td><td>1.7</td><td>0.4</td><td>setosa</td></tr>\n",
       "</tbody>\n",
       "</table>\n"
      ],
      "text/latex": [
       "A data.frame: 6 × 5\n",
       "\\begin{tabular}{r|lllll}\n",
       "  & Sepal.Length & Sepal.Width & Petal.Length & Petal.Width & Species\\\\\n",
       "  & <dbl> & <dbl> & <dbl> & <dbl> & <fct>\\\\\n",
       "\\hline\n",
       "\t1 & 5.1 & 3.5 & 1.4 & 0.2 & setosa\\\\\n",
       "\t2 & 4.9 & 3.0 & 1.4 & 0.2 & setosa\\\\\n",
       "\t3 & 4.7 & 3.2 & 1.3 & 0.2 & setosa\\\\\n",
       "\t4 & 4.6 & 3.1 & 1.5 & 0.2 & setosa\\\\\n",
       "\t5 & 5.0 & 3.6 & 1.4 & 0.2 & setosa\\\\\n",
       "\t6 & 5.4 & 3.9 & 1.7 & 0.4 & setosa\\\\\n",
       "\\end{tabular}\n"
      ],
      "text/markdown": [
       "\n",
       "A data.frame: 6 × 5\n",
       "\n",
       "| <!--/--> | Sepal.Length &lt;dbl&gt; | Sepal.Width &lt;dbl&gt; | Petal.Length &lt;dbl&gt; | Petal.Width &lt;dbl&gt; | Species &lt;fct&gt; |\n",
       "|---|---|---|---|---|---|\n",
       "| 1 | 5.1 | 3.5 | 1.4 | 0.2 | setosa |\n",
       "| 2 | 4.9 | 3.0 | 1.4 | 0.2 | setosa |\n",
       "| 3 | 4.7 | 3.2 | 1.3 | 0.2 | setosa |\n",
       "| 4 | 4.6 | 3.1 | 1.5 | 0.2 | setosa |\n",
       "| 5 | 5.0 | 3.6 | 1.4 | 0.2 | setosa |\n",
       "| 6 | 5.4 | 3.9 | 1.7 | 0.4 | setosa |\n",
       "\n"
      ],
      "text/plain": [
       "  Sepal.Length Sepal.Width Petal.Length Petal.Width Species\n",
       "1 5.1          3.5         1.4          0.2         setosa \n",
       "2 4.9          3.0         1.4          0.2         setosa \n",
       "3 4.7          3.2         1.3          0.2         setosa \n",
       "4 4.6          3.1         1.5          0.2         setosa \n",
       "5 5.0          3.6         1.4          0.2         setosa \n",
       "6 5.4          3.9         1.7          0.4         setosa "
      ]
     },
     "metadata": {},
     "output_type": "display_data"
    }
   ],
   "source": [
    "head(iris)"
   ]
  },
  {
   "cell_type": "code",
   "execution_count": null,
   "metadata": {},
   "outputs": [],
   "source": []
  },
  {
   "cell_type": "code",
   "execution_count": null,
   "metadata": {},
   "outputs": [],
   "source": []
  },
  {
   "cell_type": "markdown",
   "metadata": {},
   "source": [
    "[Pivot in R ](https://www.r-bloggers.com/pivot-tables-in-r/)"
   ]
  },
  {
   "cell_type": "code",
   "execution_count": 7,
   "metadata": {},
   "outputs": [
    {
     "data": {
      "text/html": [
       "<table>\n",
       "<caption>A data.frame: 6 × 3</caption>\n",
       "<thead>\n",
       "\t<tr><th></th><th scope=col>gene</th><th scope=col>condition</th><th scope=col>value</th></tr>\n",
       "\t<tr><th></th><th scope=col>&lt;fct&gt;</th><th scope=col>&lt;fct&gt;</th><th scope=col>&lt;dbl&gt;</th></tr>\n",
       "</thead>\n",
       "<tbody>\n",
       "\t<tr><th scope=row>1</th><td>MMP0001</td><td>copper</td><td> 1.4937029</td></tr>\n",
       "\t<tr><th scope=row>2</th><td>MMP0002</td><td>copper</td><td>-1.0783997</td></tr>\n",
       "\t<tr><th scope=row>3</th><td>MMP0003</td><td>copper</td><td> 1.3556558</td></tr>\n",
       "\t<tr><th scope=row>4</th><td>MMP0004</td><td>copper</td><td>-0.4389601</td></tr>\n",
       "\t<tr><th scope=row>5</th><td>MMP0005</td><td>copper</td><td>-0.2955281</td></tr>\n",
       "\t<tr><th scope=row>6</th><td>MMP0006</td><td>copper</td><td>-0.3599112</td></tr>\n",
       "</tbody>\n",
       "</table>\n"
      ],
      "text/latex": [
       "A data.frame: 6 × 3\n",
       "\\begin{tabular}{r|lll}\n",
       "  & gene & condition & value\\\\\n",
       "  & <fct> & <fct> & <dbl>\\\\\n",
       "\\hline\n",
       "\t1 & MMP0001 & copper &  1.4937029\\\\\n",
       "\t2 & MMP0002 & copper & -1.0783997\\\\\n",
       "\t3 & MMP0003 & copper &  1.3556558\\\\\n",
       "\t4 & MMP0004 & copper & -0.4389601\\\\\n",
       "\t5 & MMP0005 & copper & -0.2955281\\\\\n",
       "\t6 & MMP0006 & copper & -0.3599112\\\\\n",
       "\\end{tabular}\n"
      ],
      "text/markdown": [
       "\n",
       "A data.frame: 6 × 3\n",
       "\n",
       "| <!--/--> | gene &lt;fct&gt; | condition &lt;fct&gt; | value &lt;dbl&gt; |\n",
       "|---|---|---|---|\n",
       "| 1 | MMP0001 | copper |  1.4937029 |\n",
       "| 2 | MMP0002 | copper | -1.0783997 |\n",
       "| 3 | MMP0003 | copper |  1.3556558 |\n",
       "| 4 | MMP0004 | copper | -0.4389601 |\n",
       "| 5 | MMP0005 | copper | -0.2955281 |\n",
       "| 6 | MMP0006 | copper | -0.3599112 |\n",
       "\n"
      ],
      "text/plain": [
       "  gene    condition value     \n",
       "1 MMP0001 copper     1.4937029\n",
       "2 MMP0002 copper    -1.0783997\n",
       "3 MMP0003 copper     1.3556558\n",
       "4 MMP0004 copper    -0.4389601\n",
       "5 MMP0005 copper    -0.2955281\n",
       "6 MMP0006 copper    -0.3599112"
      ]
     },
     "metadata": {},
     "output_type": "display_data"
    }
   ],
   "source": [
    "genes = paste('MMP', sprintf(\"%04d\",1:10), sep=\"\")\n",
    "data = expand.grid(gene=genes, condition=c('copper', 'cheetos', 'beer', 'pizza'))\n",
    "data$value = rnorm(40)\n",
    "head(data)"
   ]
  },
  {
   "cell_type": "code",
   "execution_count": 8,
   "metadata": {},
   "outputs": [
    {
     "name": "stderr",
     "output_type": "stream",
     "text": [
      "Warning message:\n",
      "“unable to access index for repository https://cran.r-project.org/src/contrib:\n",
      "  cannot open URL 'https://cran.r-project.org/src/contrib/PACKAGES'”\n",
      "Warning message:\n",
      "“package ‘reshape’ is not available (for R version 3.4.3)”\n",
      "Warning message:\n",
      "“unable to access index for repository https://cran.r-project.org/bin/macosx/el-capitan/contrib/3.4:\n",
      "  cannot open URL 'https://cran.r-project.org/bin/macosx/el-capitan/contrib/3.4/PACKAGES'”\n",
      "Warning message:\n",
      "“package ‘reshape’ was built under R version 3.4.4”\n"
     ]
    }
   ],
   "source": [
    " install.packages('reshape')\n",
    "library(reshape)"
   ]
  },
  {
   "cell_type": "code",
   "execution_count": 9,
   "metadata": {},
   "outputs": [
    {
     "data": {
      "text/html": [
       "<table>\n",
       "<caption>A cast_df: 10 × 5</caption>\n",
       "<thead>\n",
       "\t<tr><th></th><th scope=col>gene</th><th scope=col>copper</th><th scope=col>cheetos</th><th scope=col>beer</th><th scope=col>pizza</th></tr>\n",
       "\t<tr><th></th><th scope=col>&lt;fct&gt;</th><th scope=col>&lt;dbl&gt;</th><th scope=col>&lt;dbl&gt;</th><th scope=col>&lt;dbl&gt;</th><th scope=col>&lt;dbl&gt;</th></tr>\n",
       "</thead>\n",
       "<tbody>\n",
       "\t<tr><th scope=row>1</th><td>MMP0001</td><td> 1.4937029</td><td> 0.33500629</td><td>-2.03889608</td><td> 1.67153570</td></tr>\n",
       "\t<tr><th scope=row>2</th><td>MMP0002</td><td>-1.0783997</td><td> 2.42689898</td><td>-0.11908460</td><td>-0.75792287</td></tr>\n",
       "\t<tr><th scope=row>3</th><td>MMP0003</td><td> 1.3556558</td><td>-0.28963922</td><td> 0.12301021</td><td> 0.62075811</td></tr>\n",
       "\t<tr><th scope=row>4</th><td>MMP0004</td><td>-0.4389601</td><td> 0.69409813</td><td>-0.05329289</td><td> 1.54387134</td></tr>\n",
       "\t<tr><th scope=row>5</th><td>MMP0005</td><td>-0.2955281</td><td>-0.64542327</td><td> 0.45392558</td><td>-0.05368237</td></tr>\n",
       "\t<tr><th scope=row>6</th><td>MMP0006</td><td>-0.3599112</td><td> 0.31842846</td><td> 0.60185981</td><td> 0.88068204</td></tr>\n",
       "\t<tr><th scope=row>7</th><td>MMP0007</td><td>-1.1606051</td><td>-1.27440559</td><td> 1.46498925</td><td> 1.05561764</td></tr>\n",
       "\t<tr><th scope=row>8</th><td>MMP0008</td><td> 1.1858115</td><td> 0.53123722</td><td> 1.42862165</td><td> 0.02708570</td></tr>\n",
       "\t<tr><th scope=row>9</th><td>MMP0009</td><td>-1.1903611</td><td> 0.08012888</td><td> 1.40783975</td><td>-0.60902289</td></tr>\n",
       "\t<tr><th scope=row>10</th><td>MMP0010</td><td>-0.1751001</td><td> 0.47704577</td><td>-0.53655450</td><td> 0.02463163</td></tr>\n",
       "</tbody>\n",
       "</table>\n"
      ],
      "text/latex": [
       "A cast_df: 10 × 5\n",
       "\\begin{tabular}{r|lllll}\n",
       "  & gene & copper & cheetos & beer & pizza\\\\\n",
       "  & <fct> & <dbl> & <dbl> & <dbl> & <dbl>\\\\\n",
       "\\hline\n",
       "\t1 & MMP0001 &  1.4937029 &  0.33500629 & -2.03889608 &  1.67153570\\\\\n",
       "\t2 & MMP0002 & -1.0783997 &  2.42689898 & -0.11908460 & -0.75792287\\\\\n",
       "\t3 & MMP0003 &  1.3556558 & -0.28963922 &  0.12301021 &  0.62075811\\\\\n",
       "\t4 & MMP0004 & -0.4389601 &  0.69409813 & -0.05329289 &  1.54387134\\\\\n",
       "\t5 & MMP0005 & -0.2955281 & -0.64542327 &  0.45392558 & -0.05368237\\\\\n",
       "\t6 & MMP0006 & -0.3599112 &  0.31842846 &  0.60185981 &  0.88068204\\\\\n",
       "\t7 & MMP0007 & -1.1606051 & -1.27440559 &  1.46498925 &  1.05561764\\\\\n",
       "\t8 & MMP0008 &  1.1858115 &  0.53123722 &  1.42862165 &  0.02708570\\\\\n",
       "\t9 & MMP0009 & -1.1903611 &  0.08012888 &  1.40783975 & -0.60902289\\\\\n",
       "\t10 & MMP0010 & -0.1751001 &  0.47704577 & -0.53655450 &  0.02463163\\\\\n",
       "\\end{tabular}\n"
      ],
      "text/markdown": [
       "\n",
       "A cast_df: 10 × 5\n",
       "\n",
       "| <!--/--> | gene &lt;fct&gt; | copper &lt;dbl&gt; | cheetos &lt;dbl&gt; | beer &lt;dbl&gt; | pizza &lt;dbl&gt; |\n",
       "|---|---|---|---|---|---|\n",
       "| 1 | MMP0001 |  1.4937029 |  0.33500629 | -2.03889608 |  1.67153570 |\n",
       "| 2 | MMP0002 | -1.0783997 |  2.42689898 | -0.11908460 | -0.75792287 |\n",
       "| 3 | MMP0003 |  1.3556558 | -0.28963922 |  0.12301021 |  0.62075811 |\n",
       "| 4 | MMP0004 | -0.4389601 |  0.69409813 | -0.05329289 |  1.54387134 |\n",
       "| 5 | MMP0005 | -0.2955281 | -0.64542327 |  0.45392558 | -0.05368237 |\n",
       "| 6 | MMP0006 | -0.3599112 |  0.31842846 |  0.60185981 |  0.88068204 |\n",
       "| 7 | MMP0007 | -1.1606051 | -1.27440559 |  1.46498925 |  1.05561764 |\n",
       "| 8 | MMP0008 |  1.1858115 |  0.53123722 |  1.42862165 |  0.02708570 |\n",
       "| 9 | MMP0009 | -1.1903611 |  0.08012888 |  1.40783975 | -0.60902289 |\n",
       "| 10 | MMP0010 | -0.1751001 |  0.47704577 | -0.53655450 |  0.02463163 |\n",
       "\n"
      ],
      "text/plain": [
       "   gene    copper     cheetos     beer        pizza      \n",
       "1  MMP0001  1.4937029  0.33500629 -2.03889608  1.67153570\n",
       "2  MMP0002 -1.0783997  2.42689898 -0.11908460 -0.75792287\n",
       "3  MMP0003  1.3556558 -0.28963922  0.12301021  0.62075811\n",
       "4  MMP0004 -0.4389601  0.69409813 -0.05329289  1.54387134\n",
       "5  MMP0005 -0.2955281 -0.64542327  0.45392558 -0.05368237\n",
       "6  MMP0006 -0.3599112  0.31842846  0.60185981  0.88068204\n",
       "7  MMP0007 -1.1606051 -1.27440559  1.46498925  1.05561764\n",
       "8  MMP0008  1.1858115  0.53123722  1.42862165  0.02708570\n",
       "9  MMP0009 -1.1903611  0.08012888  1.40783975 -0.60902289\n",
       "10 MMP0010 -0.1751001  0.47704577 -0.53655450  0.02463163"
      ]
     },
     "metadata": {},
     "output_type": "display_data"
    }
   ],
   "source": [
    "cast(data, gene ~ condition)"
   ]
  },
  {
   "cell_type": "code",
   "execution_count": null,
   "metadata": {},
   "outputs": [],
   "source": []
  },
  {
   "cell_type": "code",
   "execution_count": null,
   "metadata": {},
   "outputs": [],
   "source": []
  }
 ],
 "metadata": {
  "kernelspec": {
   "display_name": "R",
   "language": "R",
   "name": "ir"
  },
  "language_info": {
   "codemirror_mode": "r",
   "file_extension": ".r",
   "mimetype": "text/x-r-source",
   "name": "R",
   "pygments_lexer": "r",
   "version": "3.4.3"
  }
 },
 "nbformat": 4,
 "nbformat_minor": 2
}
