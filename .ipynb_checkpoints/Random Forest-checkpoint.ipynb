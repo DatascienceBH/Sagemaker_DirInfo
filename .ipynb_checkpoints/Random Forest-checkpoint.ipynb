{
 "cells": [
  {
   "cell_type": "code",
   "execution_count": null,
   "metadata": {},
   "outputs": [],
   "source": [
    "import pandas as pd\n",
    "features=pd.read_csv(\"https://bit.ly/2vcHGgs\")"
   ]
  },
  {
   "cell_type": "code",
   "execution_count": null,
   "metadata": {},
   "outputs": [],
   "source": [
    "features.head()"
   ]
  },
  {
   "cell_type": "code",
   "execution_count": null,
   "metadata": {},
   "outputs": [],
   "source": [
    "print(\"we have {} days of data with {} variables \".format(*features.shape))"
   ]
  },
  {
   "cell_type": "code",
   "execution_count": null,
   "metadata": {},
   "outputs": [],
   "source": [
    "round(features.describe().T, 2)"
   ]
  },
  {
   "cell_type": "code",
   "execution_count": null,
   "metadata": {},
   "outputs": [],
   "source": [
    "import datetime\n",
    "# Get days, months and years\n",
    "years=features['year']\n",
    "months=features['month']\n",
    "days=features['day']"
   ]
  },
  {
   "cell_type": "code",
   "execution_count": null,
   "metadata": {},
   "outputs": [],
   "source": [
    "#lsit and convert to dateTime Object\n",
    "dates=[str(int(year)) + '-' + str(month)+'-'+ str(int(day)) for year, month, day in zip(years, months, days)]\n",
    "dates=[datetime.datetime.strptime(date, '%Y-%m-%d') for date in dates]\n",
    "dates[1:5]"
   ]
  },
  {
   "cell_type": "code",
   "execution_count": null,
   "metadata": {},
   "outputs": [],
   "source": [
    "import matplotlib.pyplot as plt\n",
    "%matplotlib inline\n",
    "plt.style.use(\"fivethirtyeight\")"
   ]
  },
  {
   "cell_type": "code",
   "execution_count": null,
   "metadata": {},
   "outputs": [],
   "source": [
    "fig, ((ax1, ax2),(ax3,ax4))=plt.subplots(nrows=2, ncols=2, figsize=(15,10))\n",
    "fig.autofmt_xdate(rotation=45)\n",
    "ax1.plot(dates, features['actual'])\n",
    "\n",
    "ax2.plot(dates, features['temp_1'])\n",
    "ax3.plot(dates, features['temp_2'])\n",
    "ax4.plot(dates, features['friend'])\n"
   ]
  },
  {
   "cell_type": "code",
   "execution_count": null,
   "metadata": {},
   "outputs": [],
   "source": [
    "fig, ((ax1, ax2),(ax3,ax4))=plt.subplots(nrows=2, ncols=2, figsize=(15,10))\n",
    "fig.autofmt_xdate(rotation=45)\n",
    "ax1.plot(dates, features['average'])\n",
    "\n",
    "ax2.plot(dates, features['ws_1'], 'r-')\n",
    "ax3.plot(dates, features['prcp_1'], 'r-')\n",
    "ax4.plot(dates, features['snwd_1'],'ro')\n",
    "plt.tight_layout(pad=2)"
   ]
  },
  {
   "cell_type": "code",
   "execution_count": null,
   "metadata": {},
   "outputs": [],
   "source": [
    "dir(sns)"
   ]
  },
  {
   "cell_type": "code",
   "execution_count": null,
   "metadata": {},
   "outputs": [],
   "source": [
    "len(dates)"
   ]
  },
  {
   "cell_type": "code",
   "execution_count": null,
   "metadata": {},
   "outputs": [],
   "source": [
    "features.shape"
   ]
  },
  {
   "cell_type": "code",
   "execution_count": null,
   "metadata": {},
   "outputs": [],
   "source": [
    "# create columns of season for pair plotting colors \n",
    "seasons=[]\n",
    "for month in features['month']\n",
    "    if month in [1,2,12]:\n",
    "        seasons.append('winter')\n",
    "    elif month in [1,2,12]:\n",
    "        seasons.append('spring')\n",
    "    elif month in [1,2,12]:\n",
    "        seasons.append('summer')\n",
    "    elif month in [1,2,12]:\n",
    "        seasons.append('winter')\n"
   ]
  },
  {
   "cell_type": "code",
   "execution_count": null,
   "metadata": {},
   "outputs": [],
   "source": []
  },
  {
   "cell_type": "raw",
   "metadata": {},
   "source": []
  },
  {
   "cell_type": "code",
   "execution_count": null,
   "metadata": {},
   "outputs": [],
   "source": []
  },
  {
   "cell_type": "code",
   "execution_count": null,
   "metadata": {},
   "outputs": [],
   "source": []
  }
 ],
 "metadata": {
  "kernelspec": {
   "display_name": "Python 3",
   "language": "python",
   "name": "python3"
  },
  "language_info": {
   "codemirror_mode": {
    "name": "ipython",
    "version": 3
   },
   "file_extension": ".py",
   "mimetype": "text/x-python",
   "name": "python",
   "nbconvert_exporter": "python",
   "pygments_lexer": "ipython3",
   "version": "3.7.1"
  }
 },
 "nbformat": 4,
 "nbformat_minor": 2
}
