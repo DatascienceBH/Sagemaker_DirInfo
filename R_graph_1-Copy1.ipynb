{
 "cells": [
  {
   "cell_type": "markdown",
   "metadata": {},
   "source": [
    " <h1 dir=\"auto\"> التخطيطات البيانية</h1>"
   ]
  },
  {
   "cell_type": "code",
   "execution_count": null,
   "metadata": {},
   "outputs": [],
   "source": [
    "# قم بتحميل بيانات   قاعدة البيانات  من العنوان التالي : \n",
    "## https://bit.ly/2KYEQzN\n",
    "college<- \n"
   ]
  },
  {
   "cell_type": "code",
   "execution_count": null,
   "metadata": {},
   "outputs": [],
   "source": [
    "# اظهر هيكل قاعدة البيانات\n",
    "\n"
   ]
  },
  {
   "cell_type": "code",
   "execution_count": null,
   "metadata": {},
   "outputs": [],
   "source": [
    "# اظهر فقط عمودي\n",
    "#  genre &   undergrads\n",
    "# ضمن  قاعدة البيانات\n",
    "\n"
   ]
  },
  {
   "cell_type": "code",
   "execution_count": null,
   "metadata": {},
   "outputs": [],
   "source": [
    "#ggplot2 \n",
    "قم بتحميل حزمة\n",
    "#ggplot2 حمل مكتبة \n",
    "\n",
    "\n"
   ]
  },
  {
   "cell_type": "code",
   "execution_count": null,
   "metadata": {},
   "outputs": [],
   "source": [
    "#  انجز تخطيطا بيانيا على شكل تشتت نقطي لبيانات عدد الطلبة حسب رسوم الجامعات\n",
    "# x=undergrads\n",
    "# y = tuition\n",
    "\n"
   ]
  },
  {
   "cell_type": "markdown",
   "metadata": {},
   "source": [
    "\n",
    "### Github قم بحفظ ملف العمل هذا وادرجه ضمن مجلد  \"انجاز\" الموجود ضمن  حسابك على منصة  "
   ]
  }
 ],
 "metadata": {
  "kernelspec": {
   "display_name": "R",
   "language": "R",
   "name": "ir"
  },
  "language_info": {
   "codemirror_mode": "r",
   "file_extension": ".r",
   "mimetype": "text/x-r-source",
   "name": "R",
   "pygments_lexer": "r",
   "version": "3.4.3"
  }
 },
 "nbformat": 4,
 "nbformat_minor": 2
}
