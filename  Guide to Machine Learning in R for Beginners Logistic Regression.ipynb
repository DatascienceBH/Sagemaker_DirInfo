{
 "cells": [
  {
   "cell_type": "markdown",
   "metadata": {},
   "source": [
    "## A Guide to Machine Learning in R for Beginners: Logistic Regression"
   ]
  },
  {
   "cell_type": "markdown",
   "metadata": {},
   "source": [
    "- Introduction\n",
    "Imagine you are working as a data scientist for an e-commerce company. One of the company’s task is to send out e-mail offers to customers with a proposal to buy certain products. Your job as a data scientist is to determine whether the contacted person will buy the product or not. All you have is a sample of customers that were contacted recently, their age and a variable whether or not they took action.\n",
    "So how do we do that? The only way that appears is to contact every person on the list and ask them whether they will buy the product or not. Although this appears to be the only solution, it isn’t the best one.\n",
    "So as a Data Scientist, you apply your knowledge of Machine Learning to the problem. Clearly, the Linear Regression algorithm will not work here since it only works for problems with a continuous outcome variable. On the other hand, the problem at hand is categorical i.e whether customers will buy a product( =1) or not( =0).\n",
    "So, Instead of trying to predict exactly whether the people will buy a product or not, you calculate the probability or a likelihood of the person saying yes. Basically you try to fit in probabilities between 0 and 1, which are the two possible outcomes. You also decide a cut off value/threshold and then conclude that people with a probability higher than the threshold will buy the product and vice versa.\n",
    "And how does it make the work of the company, easier?\n",
    "Since it gives the probability of people who are more likely to buy a product, it enables the company, to focus only on the customers who are most likely to say Yes.\n",
    "This the basic intuition behind Logistic Regression. Now let us get to know the math behind it."
   ]
  },
  {
   "cell_type": "markdown",
   "metadata": {},
   "source": [
    "# What is Logistic Regression\n",
    "\n",
    "It’s an extension of linear regression where the dependent variable is categorical and not continuous. It predicts the probability of the outcome variable.\n",
    "Logistic regression can be binomial or multinomial. In the binomial or binary logistic regression, the outcome can have only two possible types of values (e.g. “Yes” or “No”, “Success” or “Failure”). Multinomial logistic refers to cases where the outcome can have three or more possible types of values (e.g., “good” vs. “very good” vs. “best” ). Generally, the outcome is coded as “0″ and “1″ in binary logistic regression.\n"
   ]
  },
  {
   "cell_type": "markdown",
   "metadata": {},
   "source": [
    "# Representation of Logistic regression\n",
    "Logistic Response Function\n",
    "\n",
    "$$\\Large  P(y-1)= \\frac{1}{1+e^{\\beta_0+\\beta_1x_1++\\beta_2x_2+...+\\beta_kx_k}}$$\n",
    "\n",
    "![](Sigma.png)"
   ]
  },
  {
   "cell_type": "code",
   "execution_count": 2,
   "metadata": {},
   "outputs": [
    {
     "data": {
      "text/html": [
       "'/Users/medamin/_Projets/_DataScience/DirectOfInformaiton_Project'"
      ],
      "text/latex": [
       "'/Users/medamin/\\_Projets/\\_DataScience/DirectOfInformaiton\\_Project'"
      ],
      "text/markdown": [
       "'/Users/medamin/_Projets/_DataScience/DirectOfInformaiton_Project'"
      ],
      "text/plain": [
       "[1] \"/Users/medamin/_Projets/_DataScience/DirectOfInformaiton_Project\""
      ]
     },
     "metadata": {},
     "output_type": "display_data"
    }
   ],
   "source": [
    "getwd()"
   ]
  },
  {
   "cell_type": "markdown",
   "metadata": {},
   "source": [
    "- Positive values are predictive of class 1\n",
    "- Negative values are predictive of class 0\n",
    "\n",
    "The coefficients, or β values, are selected to maximize the likelihood of predicting a high probability for observations actually belonging to class 1 and predicting a low probability for observations actually belonging to class 0. The output of this function is always between 0 and 1"
   ]
  },
  {
   "cell_type": "markdown",
   "metadata": {},
   "source": [
    "- Odds Ratio\n",
    "\n",
    "- Odds : P(y=1)/P(y=0)\n",
    "* The odds ratio for a variable in logistic regression represents how the odds change with a 1 unit increase in that variable holding all other variables constant.\n",
    "\n",
    "* Odds > 1 if y = 1 is more likely\n",
    "* Odds < 1 if y = 0 is more likely"
   ]
  },
  {
   "cell_type": "markdown",
   "metadata": {},
   "source": [
    "- The Logit\n",
    "\n",
    "$$\\Large  Odds= e^{\\beta_0+\\beta_1x_1++\\beta_2x_2+...+\\beta_kx_k}$$\n",
    "\n",
    "$$\\Large  log(Odds)=  \\beta_0+\\beta_1x_1++\\beta_2x_2+...+\\beta_kx_k$$\n",
    "\n",
    "This is called the “Logit” and looks like linear regression\n",
    "The bigger the Logit is, the bigger is P(y = 1)."
   ]
  },
  {
   "cell_type": "markdown",
   "metadata": {},
   "source": [
    "# Baseline Model:"
   ]
  },
  {
   "cell_type": "markdown",
   "metadata": {},
   "source": [
    "The baseline model in case of Logistic Regression is to predict the most frequent outcome as the outcome for all data points. (In the case of Linear regression, the baseline model predicts the average of all data points as the outcome)\n",
    "Logistic Regression tries to –\n",
    "\n",
    "**Model** the probability of an event occurring depending on the values of the independent variables\n",
    "\n",
    "**Estimate** the probability that an event occurs vs the probability that the event does not occur\n",
    "\n",
    "**Predict** the effect of a series of variables on a binary response variable\n",
    "\n",
    "**Classify** observations by estimating the probability that an observation is in a particular category or not.\n",
    "\n",
    "The output of a Logistic regression model is a probability. We can select a threshold value. If the probability is greater than this **threshold** value, the event is predicted to happen otherwise it is predicted not to happen.\n",
    "\n",
    "A **confusion or classification matrix** compares the actual outcomes to the predicted outcomes. The rows are labelled with actual outcomes while the columns are labelled with predicted outcomes."
   ]
  },
  {
   "cell_type": "markdown",
   "metadata": {},
   "source": [
    "## Describing the Performance of a Logistic model\n",
    "\n",
    "A confusion matrix is a table that is often used to describe the performance of a classification model (or “classifier”) on a set of test data for which the true values are known.Let us look at some of the important terms of confusion matrix.\n",
    "\n",
    "![](confusion.png)"
   ]
  },
  {
   "cell_type": "markdown",
   "metadata": {},
   "source": [
    "The Confusion Matrix tells us the following:"
   ]
  },
  {
   "cell_type": "code",
   "execution_count": null,
   "metadata": {},
   "outputs": [],
   "source": []
  }
 ],
 "metadata": {
  "kernelspec": {
   "display_name": "R",
   "language": "R",
   "name": "ir"
  },
  "language_info": {
   "codemirror_mode": "r",
   "file_extension": ".r",
   "mimetype": "text/x-r-source",
   "name": "R",
   "pygments_lexer": "r",
   "version": "3.4.3"
  }
 },
 "nbformat": 4,
 "nbformat_minor": 2
}
